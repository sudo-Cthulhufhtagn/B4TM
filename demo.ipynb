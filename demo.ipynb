{
 "cells": [
  {
   "cell_type": "code",
   "execution_count": 2,
   "metadata": {},
   "outputs": [],
   "source": [
    "import pandas as pd\n",
    "from sklearn.model_selection import train_test_split\n",
    "from sklearn.ensemble import RandomForestClassifier\n",
    "from sklearn.model_selection import cross_val_score\n",
    "from sklearn.model_selection import StratifiedKFold\n",
    "from sklearn.linear_model import LogisticRegression\n",
    "import matplotlib.pyplot as plt\n",
    "import seaborn as sns\n",
    "import xgboost as xgb\n",
    "# importing all the horrors imaginable"
   ]
  },
  {
   "cell_type": "markdown",
   "metadata": {},
   "source": [
    "# Data loading and preprocessing"
   ]
  },
  {
   "cell_type": "code",
   "execution_count": 3,
   "metadata": {},
   "outputs": [
    {
     "data": {
      "text/html": [
       "<div>\n",
       "<style scoped>\n",
       "    .dataframe tbody tr th:only-of-type {\n",
       "        vertical-align: middle;\n",
       "    }\n",
       "\n",
       "    .dataframe tbody tr th {\n",
       "        vertical-align: top;\n",
       "    }\n",
       "\n",
       "    .dataframe thead th {\n",
       "        text-align: right;\n",
       "    }\n",
       "</style>\n",
       "<table border=\"1\" class=\"dataframe\">\n",
       "  <thead>\n",
       "    <tr style=\"text-align: right;\">\n",
       "      <th></th>\n",
       "      <th>Chromosome</th>\n",
       "      <th>Start</th>\n",
       "      <th>End</th>\n",
       "      <th>Nclone</th>\n",
       "      <th>Array.129</th>\n",
       "      <th>Array.34</th>\n",
       "      <th>Array.67</th>\n",
       "      <th>Array.24</th>\n",
       "      <th>Array.22</th>\n",
       "      <th>Array.36</th>\n",
       "      <th>...</th>\n",
       "      <th>Array.64</th>\n",
       "      <th>Array.89</th>\n",
       "      <th>Array.30</th>\n",
       "      <th>Array.35</th>\n",
       "      <th>Array.93</th>\n",
       "      <th>Array.10</th>\n",
       "      <th>Array.123</th>\n",
       "      <th>Array.100</th>\n",
       "      <th>Array.134</th>\n",
       "      <th>Array.130</th>\n",
       "    </tr>\n",
       "  </thead>\n",
       "  <tbody>\n",
       "    <tr>\n",
       "      <th>0</th>\n",
       "      <td>1</td>\n",
       "      <td>2927</td>\n",
       "      <td>43870</td>\n",
       "      <td>3</td>\n",
       "      <td>0</td>\n",
       "      <td>0</td>\n",
       "      <td>0</td>\n",
       "      <td>0</td>\n",
       "      <td>0</td>\n",
       "      <td>0</td>\n",
       "      <td>...</td>\n",
       "      <td>0</td>\n",
       "      <td>0</td>\n",
       "      <td>1</td>\n",
       "      <td>0</td>\n",
       "      <td>0</td>\n",
       "      <td>0</td>\n",
       "      <td>0</td>\n",
       "      <td>0</td>\n",
       "      <td>-1</td>\n",
       "      <td>0</td>\n",
       "    </tr>\n",
       "    <tr>\n",
       "      <th>1</th>\n",
       "      <td>1</td>\n",
       "      <td>85022</td>\n",
       "      <td>216735</td>\n",
       "      <td>4</td>\n",
       "      <td>0</td>\n",
       "      <td>0</td>\n",
       "      <td>0</td>\n",
       "      <td>0</td>\n",
       "      <td>0</td>\n",
       "      <td>0</td>\n",
       "      <td>...</td>\n",
       "      <td>0</td>\n",
       "      <td>0</td>\n",
       "      <td>1</td>\n",
       "      <td>0</td>\n",
       "      <td>0</td>\n",
       "      <td>0</td>\n",
       "      <td>0</td>\n",
       "      <td>0</td>\n",
       "      <td>-1</td>\n",
       "      <td>0</td>\n",
       "    </tr>\n",
       "    <tr>\n",
       "      <th>2</th>\n",
       "      <td>1</td>\n",
       "      <td>370546</td>\n",
       "      <td>372295</td>\n",
       "      <td>4</td>\n",
       "      <td>0</td>\n",
       "      <td>0</td>\n",
       "      <td>0</td>\n",
       "      <td>0</td>\n",
       "      <td>0</td>\n",
       "      <td>0</td>\n",
       "      <td>...</td>\n",
       "      <td>0</td>\n",
       "      <td>0</td>\n",
       "      <td>1</td>\n",
       "      <td>0</td>\n",
       "      <td>1</td>\n",
       "      <td>0</td>\n",
       "      <td>0</td>\n",
       "      <td>0</td>\n",
       "      <td>-1</td>\n",
       "      <td>0</td>\n",
       "    </tr>\n",
       "  </tbody>\n",
       "</table>\n",
       "<p>3 rows × 104 columns</p>\n",
       "</div>"
      ],
      "text/plain": [
       "   Chromosome   Start     End  Nclone  Array.129  Array.34  Array.67  \\\n",
       "0           1    2927   43870       3          0         0         0   \n",
       "1           1   85022  216735       4          0         0         0   \n",
       "2           1  370546  372295       4          0         0         0   \n",
       "\n",
       "   Array.24  Array.22  Array.36  ...  Array.64  Array.89  Array.30  Array.35  \\\n",
       "0         0         0         0  ...         0         0         1         0   \n",
       "1         0         0         0  ...         0         0         1         0   \n",
       "2         0         0         0  ...         0         0         1         0   \n",
       "\n",
       "   Array.93  Array.10  Array.123  Array.100  Array.134  Array.130  \n",
       "0         0         0          0          0         -1          0  \n",
       "1         0         0          0          0         -1          0  \n",
       "2         1         0          0          0         -1          0  \n",
       "\n",
       "[3 rows x 104 columns]"
      ]
     },
     "execution_count": 3,
     "metadata": {},
     "output_type": "execute_result"
    }
   ],
   "source": [
    "# dataframe of features\n",
    "df_X = pd.read_csv('Train_call.txt', sep='\\t')\n",
    "df_X.head(3)"
   ]
  },
  {
   "cell_type": "code",
   "execution_count": 4,
   "metadata": {},
   "outputs": [
    {
     "data": {
      "text/plain": [
       "(2834, 104)"
      ]
     },
     "execution_count": 4,
     "metadata": {},
     "output_type": "execute_result"
    }
   ],
   "source": [
    "df_X.shape"
   ]
  },
  {
   "cell_type": "code",
   "execution_count": 5,
   "metadata": {},
   "outputs": [
    {
     "data": {
      "text/html": [
       "<div>\n",
       "<style scoped>\n",
       "    .dataframe tbody tr th:only-of-type {\n",
       "        vertical-align: middle;\n",
       "    }\n",
       "\n",
       "    .dataframe tbody tr th {\n",
       "        vertical-align: top;\n",
       "    }\n",
       "\n",
       "    .dataframe thead th {\n",
       "        text-align: right;\n",
       "    }\n",
       "</style>\n",
       "<table border=\"1\" class=\"dataframe\">\n",
       "  <thead>\n",
       "    <tr style=\"text-align: right;\">\n",
       "      <th></th>\n",
       "      <th>Sample</th>\n",
       "      <th>Subgroup</th>\n",
       "    </tr>\n",
       "  </thead>\n",
       "  <tbody>\n",
       "    <tr>\n",
       "      <th>0</th>\n",
       "      <td>Array.129</td>\n",
       "      <td>HER2+</td>\n",
       "    </tr>\n",
       "    <tr>\n",
       "      <th>1</th>\n",
       "      <td>Array.34</td>\n",
       "      <td>HR+</td>\n",
       "    </tr>\n",
       "    <tr>\n",
       "      <th>2</th>\n",
       "      <td>Array.67</td>\n",
       "      <td>HR+</td>\n",
       "    </tr>\n",
       "  </tbody>\n",
       "</table>\n",
       "</div>"
      ],
      "text/plain": [
       "      Sample Subgroup\n",
       "0  Array.129    HER2+\n",
       "1   Array.34      HR+\n",
       "2   Array.67      HR+"
      ]
     },
     "execution_count": 5,
     "metadata": {},
     "output_type": "execute_result"
    }
   ],
   "source": [
    "# loading annotations\n",
    "df_y = pd.read_csv('Train_clinical.txt', sep='\\t')\n",
    "df_y.head(3)"
   ]
  },
  {
   "cell_type": "code",
   "execution_count": 6,
   "metadata": {},
   "outputs": [
    {
     "data": {
      "text/plain": [
       "Subgroup\n",
       "HR+           36\n",
       "HER2+         32\n",
       "Triple Neg    32\n",
       "Name: count, dtype: int64"
      ]
     },
     "execution_count": 6,
     "metadata": {},
     "output_type": "execute_result"
    }
   ],
   "source": [
    "df_y.Subgroup.value_counts()"
   ]
  },
  {
   "cell_type": "code",
   "execution_count": 7,
   "metadata": {},
   "outputs": [],
   "source": [
    "# we gonna remap the Subgroup to a number\n",
    "mapper = {\n",
    "    'HER2+': 0,\n",
    "    'HR+': 1,\n",
    "    'Triple Neg': 2\n",
    "}"
   ]
  },
  {
   "cell_type": "code",
   "execution_count": 8,
   "metadata": {},
   "outputs": [
    {
     "data": {
      "text/html": [
       "<div>\n",
       "<style scoped>\n",
       "    .dataframe tbody tr th:only-of-type {\n",
       "        vertical-align: middle;\n",
       "    }\n",
       "\n",
       "    .dataframe tbody tr th {\n",
       "        vertical-align: top;\n",
       "    }\n",
       "\n",
       "    .dataframe thead th {\n",
       "        text-align: right;\n",
       "    }\n",
       "</style>\n",
       "<table border=\"1\" class=\"dataframe\">\n",
       "  <thead>\n",
       "    <tr style=\"text-align: right;\">\n",
       "      <th></th>\n",
       "      <th>Sample</th>\n",
       "      <th>Subgroup</th>\n",
       "      <th>y</th>\n",
       "    </tr>\n",
       "  </thead>\n",
       "  <tbody>\n",
       "    <tr>\n",
       "      <th>0</th>\n",
       "      <td>Array.129</td>\n",
       "      <td>HER2+</td>\n",
       "      <td>0</td>\n",
       "    </tr>\n",
       "    <tr>\n",
       "      <th>1</th>\n",
       "      <td>Array.34</td>\n",
       "      <td>HR+</td>\n",
       "      <td>1</td>\n",
       "    </tr>\n",
       "    <tr>\n",
       "      <th>2</th>\n",
       "      <td>Array.67</td>\n",
       "      <td>HR+</td>\n",
       "      <td>1</td>\n",
       "    </tr>\n",
       "  </tbody>\n",
       "</table>\n",
       "</div>"
      ],
      "text/plain": [
       "      Sample Subgroup  y\n",
       "0  Array.129    HER2+  0\n",
       "1   Array.34      HR+  1\n",
       "2   Array.67      HR+  1"
      ]
     },
     "execution_count": 8,
     "metadata": {},
     "output_type": "execute_result"
    }
   ],
   "source": [
    "df_y['y'] = df_y.apply(lambda x: mapper[x['Subgroup']], axis=1)\n",
    "df_y.head(3)"
   ]
  },
  {
   "cell_type": "code",
   "execution_count": 9,
   "metadata": {},
   "outputs": [
    {
     "data": {
      "text/html": [
       "<div>\n",
       "<style scoped>\n",
       "    .dataframe tbody tr th:only-of-type {\n",
       "        vertical-align: middle;\n",
       "    }\n",
       "\n",
       "    .dataframe tbody tr th {\n",
       "        vertical-align: top;\n",
       "    }\n",
       "\n",
       "    .dataframe thead th {\n",
       "        text-align: right;\n",
       "    }\n",
       "</style>\n",
       "<table border=\"1\" class=\"dataframe\">\n",
       "  <thead>\n",
       "    <tr style=\"text-align: right;\">\n",
       "      <th></th>\n",
       "      <th>0</th>\n",
       "      <th>1</th>\n",
       "      <th>2</th>\n",
       "      <th>3</th>\n",
       "      <th>4</th>\n",
       "      <th>5</th>\n",
       "      <th>6</th>\n",
       "      <th>7</th>\n",
       "      <th>8</th>\n",
       "      <th>9</th>\n",
       "      <th>...</th>\n",
       "      <th>2824</th>\n",
       "      <th>2825</th>\n",
       "      <th>2826</th>\n",
       "      <th>2827</th>\n",
       "      <th>2828</th>\n",
       "      <th>2829</th>\n",
       "      <th>2830</th>\n",
       "      <th>2831</th>\n",
       "      <th>2832</th>\n",
       "      <th>2833</th>\n",
       "    </tr>\n",
       "  </thead>\n",
       "  <tbody>\n",
       "    <tr>\n",
       "      <th>Chromosome</th>\n",
       "      <td>1</td>\n",
       "      <td>1</td>\n",
       "      <td>1</td>\n",
       "      <td>1</td>\n",
       "      <td>1</td>\n",
       "      <td>1</td>\n",
       "      <td>1</td>\n",
       "      <td>1</td>\n",
       "      <td>1</td>\n",
       "      <td>1</td>\n",
       "      <td>...</td>\n",
       "      <td>23</td>\n",
       "      <td>23</td>\n",
       "      <td>23</td>\n",
       "      <td>23</td>\n",
       "      <td>23</td>\n",
       "      <td>23</td>\n",
       "      <td>23</td>\n",
       "      <td>23</td>\n",
       "      <td>23</td>\n",
       "      <td>23</td>\n",
       "    </tr>\n",
       "    <tr>\n",
       "      <th>Start</th>\n",
       "      <td>2927</td>\n",
       "      <td>85022</td>\n",
       "      <td>370546</td>\n",
       "      <td>471671</td>\n",
       "      <td>792533</td>\n",
       "      <td>912799</td>\n",
       "      <td>1271190</td>\n",
       "      <td>1676445</td>\n",
       "      <td>1738295</td>\n",
       "      <td>2481927</td>\n",
       "      <td>...</td>\n",
       "      <td>151067607</td>\n",
       "      <td>152422390</td>\n",
       "      <td>152552851</td>\n",
       "      <td>152576854</td>\n",
       "      <td>152994680</td>\n",
       "      <td>153062077</td>\n",
       "      <td>153466463</td>\n",
       "      <td>153504394</td>\n",
       "      <td>153938998</td>\n",
       "      <td>153997146</td>\n",
       "    </tr>\n",
       "    <tr>\n",
       "      <th>End</th>\n",
       "      <td>43870</td>\n",
       "      <td>216735</td>\n",
       "      <td>372295</td>\n",
       "      <td>786483</td>\n",
       "      <td>907406</td>\n",
       "      <td>1266212</td>\n",
       "      <td>1590570</td>\n",
       "      <td>1703748</td>\n",
       "      <td>2477597</td>\n",
       "      <td>2562342</td>\n",
       "      <td>...</td>\n",
       "      <td>152416606</td>\n",
       "      <td>152548587</td>\n",
       "      <td>152570071</td>\n",
       "      <td>152935130</td>\n",
       "      <td>153054487</td>\n",
       "      <td>153452633</td>\n",
       "      <td>153491568</td>\n",
       "      <td>153933426</td>\n",
       "      <td>153989329</td>\n",
       "      <td>154492924</td>\n",
       "    </tr>\n",
       "    <tr>\n",
       "      <th>Nclone</th>\n",
       "      <td>3</td>\n",
       "      <td>4</td>\n",
       "      <td>4</td>\n",
       "      <td>5</td>\n",
       "      <td>13</td>\n",
       "      <td>96</td>\n",
       "      <td>45</td>\n",
       "      <td>4</td>\n",
       "      <td>104</td>\n",
       "      <td>14</td>\n",
       "      <td>...</td>\n",
       "      <td>159</td>\n",
       "      <td>20</td>\n",
       "      <td>6</td>\n",
       "      <td>64</td>\n",
       "      <td>5</td>\n",
       "      <td>57</td>\n",
       "      <td>4</td>\n",
       "      <td>55</td>\n",
       "      <td>5</td>\n",
       "      <td>43</td>\n",
       "    </tr>\n",
       "    <tr>\n",
       "      <th>Array.129</th>\n",
       "      <td>0</td>\n",
       "      <td>0</td>\n",
       "      <td>0</td>\n",
       "      <td>0</td>\n",
       "      <td>0</td>\n",
       "      <td>0</td>\n",
       "      <td>0</td>\n",
       "      <td>0</td>\n",
       "      <td>0</td>\n",
       "      <td>0</td>\n",
       "      <td>...</td>\n",
       "      <td>2</td>\n",
       "      <td>2</td>\n",
       "      <td>2</td>\n",
       "      <td>2</td>\n",
       "      <td>0</td>\n",
       "      <td>1</td>\n",
       "      <td>1</td>\n",
       "      <td>1</td>\n",
       "      <td>1</td>\n",
       "      <td>1</td>\n",
       "    </tr>\n",
       "  </tbody>\n",
       "</table>\n",
       "<p>5 rows × 2834 columns</p>\n",
       "</div>"
      ],
      "text/plain": [
       "             0       1       2       3       4        5        6        7     \\\n",
       "Chromosome      1       1       1       1       1        1        1        1   \n",
       "Start        2927   85022  370546  471671  792533   912799  1271190  1676445   \n",
       "End         43870  216735  372295  786483  907406  1266212  1590570  1703748   \n",
       "Nclone          3       4       4       5      13       96       45        4   \n",
       "Array.129       0       0       0       0       0        0        0        0   \n",
       "\n",
       "               8        9     ...       2824       2825       2826       2827  \\\n",
       "Chromosome        1        1  ...         23         23         23         23   \n",
       "Start       1738295  2481927  ...  151067607  152422390  152552851  152576854   \n",
       "End         2477597  2562342  ...  152416606  152548587  152570071  152935130   \n",
       "Nclone          104       14  ...        159         20          6         64   \n",
       "Array.129         0        0  ...          2          2          2          2   \n",
       "\n",
       "                 2828       2829       2830       2831       2832       2833  \n",
       "Chromosome         23         23         23         23         23         23  \n",
       "Start       152994680  153062077  153466463  153504394  153938998  153997146  \n",
       "End         153054487  153452633  153491568  153933426  153989329  154492924  \n",
       "Nclone              5         57          4         55          5         43  \n",
       "Array.129           0          1          1          1          1          1  \n",
       "\n",
       "[5 rows x 2834 columns]"
      ]
     },
     "execution_count": 9,
     "metadata": {},
     "output_type": "execute_result"
    }
   ],
   "source": [
    "# we will have to rotate the data, since provided trash is with rows as features\n",
    "df_X.T.head(5)"
   ]
  },
  {
   "cell_type": "code",
   "execution_count": 10,
   "metadata": {},
   "outputs": [],
   "source": [
    "# this code selects regions where genes are physically located\n",
    "gene_mapper = {\n",
    "    'ERBB2': [17, 35104766, 35138441], # consult readme for more details\n",
    "    'PGR': [11, 100414313, 100506465],\n",
    "    'ESR1': [6, 152053324, 152466099],\n",
    "    'ESR2': [14, 63763506, 63875021],\n",
    "}\n",
    "\n",
    "def region_selector(row):\n",
    "    # checks if this chromosome has a gene\n",
    "    gene_match = [\n",
    "        gene for gene in gene_mapper if gene_mapper[gene][0] == row['Chromosome']\n",
    "    ] # TODO: change if two genes on the same chromosome\n",
    "    if gene_match:\n",
    "        gene_match = gene_match[0]\n",
    "        gene_range = gene_mapper[gene_match]\n",
    "        if (row['Start'] <= gene_range[2] and row['End'] >= gene_range[1]) or \\\n",
    "        (row['Start'] >= gene_range[1] and row['End'] <= gene_range[2]) or \\\n",
    "        (row['Start'] <= gene_range[1] and row['End'] >= gene_range[1]):\n",
    "            row['gene'] = gene_match\n",
    "            return row\n",
    "    else:\n",
    "        return None"
   ]
  },
  {
   "cell_type": "code",
   "execution_count": 11,
   "metadata": {},
   "outputs": [],
   "source": [
    "selected_rows = [\n",
    "    region_selector(row) for _, row in df_X.iterrows() if region_selector(row) is not None\n",
    "]"
   ]
  },
  {
   "cell_type": "code",
   "execution_count": 12,
   "metadata": {},
   "outputs": [
    {
     "data": {
      "text/html": [
       "<div>\n",
       "<style scoped>\n",
       "    .dataframe tbody tr th:only-of-type {\n",
       "        vertical-align: middle;\n",
       "    }\n",
       "\n",
       "    .dataframe tbody tr th {\n",
       "        vertical-align: top;\n",
       "    }\n",
       "\n",
       "    .dataframe thead th {\n",
       "        text-align: right;\n",
       "    }\n",
       "</style>\n",
       "<table border=\"1\" class=\"dataframe\">\n",
       "  <thead>\n",
       "    <tr style=\"text-align: right;\">\n",
       "      <th></th>\n",
       "      <th>876</th>\n",
       "      <th>877</th>\n",
       "      <th>878</th>\n",
       "      <th>1577</th>\n",
       "      <th>1841</th>\n",
       "      <th>2184</th>\n",
       "    </tr>\n",
       "  </thead>\n",
       "  <tbody>\n",
       "    <tr>\n",
       "      <th>Array.129</th>\n",
       "      <td>-1</td>\n",
       "      <td>-1</td>\n",
       "      <td>-1</td>\n",
       "      <td>-1</td>\n",
       "      <td>0</td>\n",
       "      <td>2</td>\n",
       "    </tr>\n",
       "    <tr>\n",
       "      <th>Array.34</th>\n",
       "      <td>-1</td>\n",
       "      <td>-1</td>\n",
       "      <td>-1</td>\n",
       "      <td>1</td>\n",
       "      <td>-1</td>\n",
       "      <td>0</td>\n",
       "    </tr>\n",
       "    <tr>\n",
       "      <th>Array.67</th>\n",
       "      <td>-1</td>\n",
       "      <td>-1</td>\n",
       "      <td>-1</td>\n",
       "      <td>0</td>\n",
       "      <td>1</td>\n",
       "      <td>-1</td>\n",
       "    </tr>\n",
       "    <tr>\n",
       "      <th>Array.24</th>\n",
       "      <td>-1</td>\n",
       "      <td>-1</td>\n",
       "      <td>-1</td>\n",
       "      <td>0</td>\n",
       "      <td>-1</td>\n",
       "      <td>0</td>\n",
       "    </tr>\n",
       "    <tr>\n",
       "      <th>Array.22</th>\n",
       "      <td>-1</td>\n",
       "      <td>-1</td>\n",
       "      <td>-1</td>\n",
       "      <td>-1</td>\n",
       "      <td>0</td>\n",
       "      <td>0</td>\n",
       "    </tr>\n",
       "  </tbody>\n",
       "</table>\n",
       "</div>"
      ],
      "text/plain": [
       "           876   877   878   1577  1841  2184\n",
       "Array.129    -1    -1    -1    -1     0     2\n",
       "Array.34     -1    -1    -1     1    -1     0\n",
       "Array.67     -1    -1    -1     0     1    -1\n",
       "Array.24     -1    -1    -1     0    -1     0\n",
       "Array.22     -1    -1    -1    -1     0     0"
      ]
     },
     "execution_count": 12,
     "metadata": {},
     "output_type": "execute_result"
    }
   ],
   "source": [
    "X_train_preselected = pd.concat(selected_rows, axis=1, ignore_index=False)\n",
    "X_train_selected = X_train_preselected.drop(['Chromosome', 'Start', 'End', 'Nclone', 'gene'])\n",
    "X_train_selected = X_train_selected.astype('int64')\n",
    "# selected locationons where genes of interest are located\n",
    "X_train_selected.head()"
   ]
  },
  {
   "cell_type": "code",
   "execution_count": 13,
   "metadata": {},
   "outputs": [],
   "source": [
    "# remove trash (I mean not needed information)\n",
    "X_train_full = df_X.T.drop(['Chromosome', 'Start', 'End', 'Nclone'])#, 'gene'])"
   ]
  },
  {
   "cell_type": "markdown",
   "metadata": {},
   "source": [
    "## Splitting the data"
   ]
  },
  {
   "cell_type": "code",
   "execution_count": 14,
   "metadata": {},
   "outputs": [],
   "source": [
    "cv_folds = 3 # number of folds for cross-validation\n",
    "cv = StratifiedKFold(n_splits=cv_folds, random_state=43, shuffle=True)\n",
    "# I am using StratifiedKFold to make sure that each fold has the same proportion of classes as the whole dataset"
   ]
  },
  {
   "cell_type": "markdown",
   "metadata": {},
   "source": [
    "## Let's play"
   ]
  },
  {
   "cell_type": "code",
   "execution_count": 15,
   "metadata": {},
   "outputs": [],
   "source": [
    "# starting with meta\n",
    "def perform_crossval_xgb(X_train: pd.DataFrame, y_train: pd.DataFrame, cv: StratifiedKFold):\n",
    "    scores = []\n",
    "    # clf = RandomForestClassifier()\n",
    "    clf = xgb.XGBClassifier(tree_method=\"hist\", early_stopping_rounds=3)\n",
    "    for train_index, test_index in cv.split(X_train, y_train):\n",
    "        X_train_cv, X_test_cv = X_train.iloc[train_index], X_train.iloc[test_index]\n",
    "        y_train_cv, y_test_cv = y_train.iloc[train_index], y_train.iloc[test_index]\n",
    "        clf.fit(X_train_cv, y_train_cv, eval_set=[(X_test_cv, y_test_cv)], verbose=False)\n",
    "        scores.append(clf.score(X_test_cv, y_test_cv))\n",
    "    return scores"
   ]
  },
  {
   "cell_type": "code",
   "execution_count": 16,
   "metadata": {},
   "outputs": [],
   "source": [
    "scores_full_xgb = perform_crossval_xgb(X_train_full, df_y['y'], cv)"
   ]
  },
  {
   "cell_type": "code",
   "execution_count": 17,
   "metadata": {},
   "outputs": [],
   "source": [
    "# same but trained on selected regions\n",
    "scores_selected_xgb = perform_crossval_xgb(X_train_selected, df_y['y'], cv)"
   ]
  },
  {
   "cell_type": "code",
   "execution_count": 18,
   "metadata": {},
   "outputs": [],
   "source": [
    "clf = RandomForestClassifier()\n",
    "scores_full_rf = cross_val_score(\n",
    "    clf, X_train_full, df_y['y'], cv=cv\n",
    ")    "
   ]
  },
  {
   "cell_type": "code",
   "execution_count": 19,
   "metadata": {},
   "outputs": [],
   "source": [
    "clf = RandomForestClassifier()\n",
    "scores_selected_rf = cross_val_score(\n",
    "    clf, X_train_selected, df_y['y'], cv=cv\n",
    ")"
   ]
  },
  {
   "cell_type": "code",
   "execution_count": 20,
   "metadata": {},
   "outputs": [
    {
     "data": {
      "image/png": "[encoded data removed]",
      "text/plain": [
       "<Figure size 640x480 with 1 Axes>"
      ]
     },
     "metadata": {},
     "output_type": "display_data"
    }
   ],
   "source": [
    "sns.set_style(\"whitegrid\")\n",
    "# plot all 4 experiments\n",
    "sns.boxplot(data=[scores_full_rf, scores_selected_rf, scores_full_xgb, scores_selected_xgb], showmeans=True, color='w')\n",
    "\n",
    "sns.swarmplot(data=[scores_full_rf, scores_selected_rf, scores_full_xgb, scores_selected_xgb], color='black')\n",
    "\n",
    "plt.xticks([0, 1, 2, 3], ['All data RF', 'Selected data RF', 'All data XGB', 'Selected data XGB']);"
   ]
  },
  {
   "cell_type": "code",
   "execution_count": 21,
   "metadata": {},
   "outputs": [
    {
     "data": {
      "text/plain": [
       "Text(0.5, 1.0, 'Shows connections between cross-folds')"
      ]
     },
     "execution_count": 21,
     "metadata": {},
     "output_type": "execute_result"
    },
    {
     "data": {
      "image/png": "[encoded data removed]",
      "text/plain": [
       "<Figure size 640x480 with 1 Axes>"
      ]
     },
     "metadata": {},
     "output_type": "display_data"
    }
   ],
   "source": [
    "sns.boxplot(data=[scores_full_rf, scores_selected_rf, scores_full_xgb, scores_selected_xgb], showmeans=True, color='w')\n",
    "\n",
    "sns.swarmplot(data=[scores_full_rf, scores_selected_rf, scores_full_xgb, scores_selected_xgb], color='black')\n",
    "\n",
    "plt.xticks([0, 1, 2, 3], ['All data RF', 'Selected data RF', 'All data XGB', 'Selected data XGB']);\n",
    "for i in range(3):\n",
    "    plt.plot([0, 1, 2, 3], [scores_full_rf[i], scores_selected_rf[i], scores_full_xgb[i], scores_selected_xgb[i]], alpha=0.5)\n",
    "plt.title('Shows connections between cross-folds')"
   ]
  },
  {
   "cell_type": "markdown",
   "metadata": {},
   "source": [
    "# Exploring feature importance of full data"
   ]
  },
  {
   "cell_type": "code",
   "execution_count": 42,
   "metadata": {},
   "outputs": [],
   "source": [
    "# train eval split\n",
    "X_train, X_eval, y_train, y_eval = train_test_split(X_train_full, df_y['y'], test_size=0.1, random_state=42, stratify=df_y['y'])"
   ]
  },
  {
   "cell_type": "code",
   "execution_count": 43,
   "metadata": {},
   "outputs": [
    {
     "name": "stdout",
     "output_type": "stream",
     "text": [
      "[0]\tvalidation_0-mlogloss:0.83273\n",
      "[1]\tvalidation_0-mlogloss:0.69716\n",
      "[2]\tvalidation_0-mlogloss:0.58176\n",
      "[3]\tvalidation_0-mlogloss:0.51546\n",
      "[4]\tvalidation_0-mlogloss:0.47627\n",
      "[5]\tvalidation_0-mlogloss:0.43561\n",
      "[6]\tvalidation_0-mlogloss:0.41063\n",
      "[7]\tvalidation_0-mlogloss:0.37906\n",
      "[8]\tvalidation_0-mlogloss:0.34580\n",
      "[9]\tvalidation_0-mlogloss:0.32520\n",
      "[10]\tvalidation_0-mlogloss:0.30439\n",
      "[11]\tvalidation_0-mlogloss:0.31239\n",
      "[12]\tvalidation_0-mlogloss:0.29858\n",
      "[13]\tvalidation_0-mlogloss:0.30069\n"
     ]
    }
   ],
   "source": [
    "# train xgboost\n",
    "clf = xgb.XGBClassifier(tree_method=\"hist\", early_stopping_rounds=2)\n",
    "clf.fit(X_train, y_train, eval_set=[(X_eval, y_eval)], verbose=True);"
   ]
  },
  {
   "cell_type": "code",
   "execution_count": 44,
   "metadata": {},
   "outputs": [],
   "source": [
    "importance = clf.feature_importances_\n",
    "features = X_train.columns\n",
    "importance_dict = dict(zip(features, importance))\n",
    "sorted_importance = sorted(importance_dict.items(), key=lambda x: x[1], reverse=True)"
   ]
  },
  {
   "cell_type": "code",
   "execution_count": 55,
   "metadata": {},
   "outputs": [
    {
     "data": {
      "text/html": [
       "<div>\n",
       "<style scoped>\n",
       "    .dataframe tbody tr th:only-of-type {\n",
       "        vertical-align: middle;\n",
       "    }\n",
       "\n",
       "    .dataframe tbody tr th {\n",
       "        vertical-align: top;\n",
       "    }\n",
       "\n",
       "    .dataframe thead th {\n",
       "        text-align: right;\n",
       "    }\n",
       "</style>\n",
       "<table border=\"1\" class=\"dataframe\">\n",
       "  <thead>\n",
       "    <tr style=\"text-align: right;\">\n",
       "      <th></th>\n",
       "      <th>feature</th>\n",
       "      <th>importance</th>\n",
       "    </tr>\n",
       "  </thead>\n",
       "  <tbody>\n",
       "    <tr>\n",
       "      <th>0</th>\n",
       "      <td>740</td>\n",
       "      <td>0.083861</td>\n",
       "    </tr>\n",
       "    <tr>\n",
       "      <th>1</th>\n",
       "      <td>2184</td>\n",
       "      <td>0.078499</td>\n",
       "    </tr>\n",
       "    <tr>\n",
       "      <th>2</th>\n",
       "      <td>1899</td>\n",
       "      <td>0.043978</td>\n",
       "    </tr>\n",
       "    <tr>\n",
       "      <th>3</th>\n",
       "      <td>1677</td>\n",
       "      <td>0.037343</td>\n",
       "    </tr>\n",
       "    <tr>\n",
       "      <th>4</th>\n",
       "      <td>195</td>\n",
       "      <td>0.037282</td>\n",
       "    </tr>\n",
       "  </tbody>\n",
       "</table>\n",
       "</div>"
      ],
      "text/plain": [
       "   feature  importance\n",
       "0      740    0.083861\n",
       "1     2184    0.078499\n",
       "2     1899    0.043978\n",
       "3     1677    0.037343\n",
       "4      195    0.037282"
      ]
     },
     "execution_count": 55,
     "metadata": {},
     "output_type": "execute_result"
    }
   ],
   "source": [
    "importance_df = pd.DataFrame(sorted_importance, columns=['feature', 'importance'])\n",
    "importance_df.head()\n",
    "# most important features"
   ]
  },
  {
   "cell_type": "code",
   "execution_count": 62,
   "metadata": {},
   "outputs": [
    {
     "data": {
      "text/plain": [
       "[876, 877, 878, 1577, 1841, 2184]"
      ]
     },
     "execution_count": 62,
     "metadata": {},
     "output_type": "execute_result"
    }
   ],
   "source": [
    "gene_idxs = X_train_preselected.columns.to_list()\n",
    "gene_idxs\n",
    "# features that are genes of interest sort of"
   ]
  },
  {
   "cell_type": "code",
   "execution_count": 63,
   "metadata": {},
   "outputs": [
    {
     "data": {
      "text/html": [
       "<div>\n",
       "<style scoped>\n",
       "    .dataframe tbody tr th:only-of-type {\n",
       "        vertical-align: middle;\n",
       "    }\n",
       "\n",
       "    .dataframe tbody tr th {\n",
       "        vertical-align: top;\n",
       "    }\n",
       "\n",
       "    .dataframe thead th {\n",
       "        text-align: right;\n",
       "    }\n",
       "</style>\n",
       "<table border=\"1\" class=\"dataframe\">\n",
       "  <thead>\n",
       "    <tr style=\"text-align: right;\">\n",
       "      <th></th>\n",
       "      <th>feature</th>\n",
       "      <th>importance</th>\n",
       "    </tr>\n",
       "  </thead>\n",
       "  <tbody>\n",
       "    <tr>\n",
       "      <th>1</th>\n",
       "      <td>2184</td>\n",
       "      <td>0.078499</td>\n",
       "    </tr>\n",
       "    <tr>\n",
       "      <th>930</th>\n",
       "      <td>876</td>\n",
       "      <td>0.000000</td>\n",
       "    </tr>\n",
       "    <tr>\n",
       "      <th>931</th>\n",
       "      <td>877</td>\n",
       "      <td>0.000000</td>\n",
       "    </tr>\n",
       "    <tr>\n",
       "      <th>932</th>\n",
       "      <td>878</td>\n",
       "      <td>0.000000</td>\n",
       "    </tr>\n",
       "    <tr>\n",
       "      <th>1619</th>\n",
       "      <td>1577</td>\n",
       "      <td>0.000000</td>\n",
       "    </tr>\n",
       "    <tr>\n",
       "      <th>1877</th>\n",
       "      <td>1841</td>\n",
       "      <td>0.000000</td>\n",
       "    </tr>\n",
       "  </tbody>\n",
       "</table>\n",
       "</div>"
      ],
      "text/plain": [
       "      feature  importance\n",
       "1        2184    0.078499\n",
       "930       876    0.000000\n",
       "931       877    0.000000\n",
       "932       878    0.000000\n",
       "1619     1577    0.000000\n",
       "1877     1841    0.000000"
      ]
     },
     "execution_count": 63,
     "metadata": {},
     "output_type": "execute_result"
    }
   ],
   "source": [
    "importance_df[importance_df['feature'].isin(gene_idxs)]"
   ]
  },
  {
   "cell_type": "code",
   "execution_count": 58,
   "metadata": {},
   "outputs": [],
   "source": [
    "# Not all of the genes turns out important...\n",
    "# Well, 2184 has the biggest importance, which is ERBB2 gene\n",
    "# but others have small importance, which means they are either not mapped correctly\n",
    "# or the annotations are wrong, or they are jumping genes or whataver"
   ]
  },
  {
   "cell_type": "markdown",
   "metadata": {},
   "source": [
    "### Repeating the same thingie for linear regression"
   ]
  },
  {
   "cell_type": "code",
   "execution_count": 64,
   "metadata": {},
   "outputs": [],
   "source": [
    "# train linear classifier\n",
    "clf = LogisticRegression()\n",
    "clf.fit(X_train_full, df_y['y'])\n",
    "# get feature importance\n",
    "importance = clf.coef_[0]\n",
    "features = X_train_full.columns\n",
    "importance_dict = dict(zip(features, importance))\n",
    "sorted_importance = sorted(importance_dict.items(), key=lambda x: x[1], reverse=True)\n",
    "linear_importance_df = pd.DataFrame(sorted_importance, columns=['feature', 'importance'])"
   ]
  },
  {
   "cell_type": "code",
   "execution_count": 67,
   "metadata": {},
   "outputs": [
    {
     "data": {
      "text/html": [
       "<div>\n",
       "<style scoped>\n",
       "    .dataframe tbody tr th:only-of-type {\n",
       "        vertical-align: middle;\n",
       "    }\n",
       "\n",
       "    .dataframe tbody tr th {\n",
       "        vertical-align: top;\n",
       "    }\n",
       "\n",
       "    .dataframe thead th {\n",
       "        text-align: right;\n",
       "    }\n",
       "</style>\n",
       "<table border=\"1\" class=\"dataframe\">\n",
       "  <thead>\n",
       "    <tr style=\"text-align: right;\">\n",
       "      <th></th>\n",
       "      <th>feature</th>\n",
       "      <th>importance</th>\n",
       "    </tr>\n",
       "  </thead>\n",
       "  <tbody>\n",
       "    <tr>\n",
       "      <th>0</th>\n",
       "      <td>2184</td>\n",
       "      <td>0.338548</td>\n",
       "    </tr>\n",
       "    <tr>\n",
       "      <th>1</th>\n",
       "      <td>2183</td>\n",
       "      <td>0.150001</td>\n",
       "    </tr>\n",
       "    <tr>\n",
       "      <th>2</th>\n",
       "      <td>2182</td>\n",
       "      <td>0.142836</td>\n",
       "    </tr>\n",
       "    <tr>\n",
       "      <th>3</th>\n",
       "      <td>2185</td>\n",
       "      <td>0.130784</td>\n",
       "    </tr>\n",
       "    <tr>\n",
       "      <th>4</th>\n",
       "      <td>2186</td>\n",
       "      <td>0.128018</td>\n",
       "    </tr>\n",
       "    <tr>\n",
       "      <th>5</th>\n",
       "      <td>621</td>\n",
       "      <td>0.076994</td>\n",
       "    </tr>\n",
       "    <tr>\n",
       "      <th>6</th>\n",
       "      <td>620</td>\n",
       "      <td>0.067730</td>\n",
       "    </tr>\n",
       "    <tr>\n",
       "      <th>7</th>\n",
       "      <td>2154</td>\n",
       "      <td>0.058875</td>\n",
       "    </tr>\n",
       "    <tr>\n",
       "      <th>8</th>\n",
       "      <td>548</td>\n",
       "      <td>0.058360</td>\n",
       "    </tr>\n",
       "    <tr>\n",
       "      <th>9</th>\n",
       "      <td>1527</td>\n",
       "      <td>0.056642</td>\n",
       "    </tr>\n",
       "  </tbody>\n",
       "</table>\n",
       "</div>"
      ],
      "text/plain": [
       "   feature  importance\n",
       "0     2184    0.338548\n",
       "1     2183    0.150001\n",
       "2     2182    0.142836\n",
       "3     2185    0.130784\n",
       "4     2186    0.128018\n",
       "5      621    0.076994\n",
       "6      620    0.067730\n",
       "7     2154    0.058875\n",
       "8      548    0.058360\n",
       "9     1527    0.056642"
      ]
     },
     "execution_count": 67,
     "metadata": {},
     "output_type": "execute_result"
    }
   ],
   "source": [
    "linear_importance_df.head(10)"
   ]
  },
  {
   "cell_type": "code",
   "execution_count": 65,
   "metadata": {},
   "outputs": [
    {
     "data": {
      "text/html": [
       "<div>\n",
       "<style scoped>\n",
       "    .dataframe tbody tr th:only-of-type {\n",
       "        vertical-align: middle;\n",
       "    }\n",
       "\n",
       "    .dataframe tbody tr th {\n",
       "        vertical-align: top;\n",
       "    }\n",
       "\n",
       "    .dataframe thead th {\n",
       "        text-align: right;\n",
       "    }\n",
       "</style>\n",
       "<table border=\"1\" class=\"dataframe\">\n",
       "  <thead>\n",
       "    <tr style=\"text-align: right;\">\n",
       "      <th></th>\n",
       "      <th>feature</th>\n",
       "      <th>importance</th>\n",
       "    </tr>\n",
       "  </thead>\n",
       "  <tbody>\n",
       "    <tr>\n",
       "      <th>0</th>\n",
       "      <td>2184</td>\n",
       "      <td>0.338548</td>\n",
       "    </tr>\n",
       "    <tr>\n",
       "      <th>1052</th>\n",
       "      <td>1841</td>\n",
       "      <td>0.003921</td>\n",
       "    </tr>\n",
       "    <tr>\n",
       "      <th>1316</th>\n",
       "      <td>1577</td>\n",
       "      <td>0.000706</td>\n",
       "    </tr>\n",
       "    <tr>\n",
       "      <th>2070</th>\n",
       "      <td>877</td>\n",
       "      <td>-0.009206</td>\n",
       "    </tr>\n",
       "    <tr>\n",
       "      <th>2125</th>\n",
       "      <td>878</td>\n",
       "      <td>-0.009951</td>\n",
       "    </tr>\n",
       "    <tr>\n",
       "      <th>2192</th>\n",
       "      <td>876</td>\n",
       "      <td>-0.011141</td>\n",
       "    </tr>\n",
       "  </tbody>\n",
       "</table>\n",
       "</div>"
      ],
      "text/plain": [
       "      feature  importance\n",
       "0        2184    0.338548\n",
       "1052     1841    0.003921\n",
       "1316     1577    0.000706\n",
       "2070      877   -0.009206\n",
       "2125      878   -0.009951\n",
       "2192      876   -0.011141"
      ]
     },
     "execution_count": 65,
     "metadata": {},
     "output_type": "execute_result"
    }
   ],
   "source": [
    "linear_importance_df[linear_importance_df['feature'].isin(gene_idxs)]"
   ]
  },
  {
   "cell_type": "code",
   "execution_count": null,
   "metadata": {},
   "outputs": [],
   "source": [
    "# well, idk what's wrong but SHAP might show us the way"
   ]
  }
 ],
 "metadata": {
  "kernelspec": {
   "display_name": "bio",
   "language": "python",
   "name": "python3"
  },
  "language_info": {
   "codemirror_mode": {
    "name": "ipython",
    "version": 3
   },
   "file_extension": ".py",
   "mimetype": "text/x-python",
   "name": "python",
   "nbconvert_exporter": "python",
   "pygments_lexer": "ipython3",
   "version": "3.10.12"
  }
 },
 "nbformat": 4,
 "nbformat_minor": 2
}
